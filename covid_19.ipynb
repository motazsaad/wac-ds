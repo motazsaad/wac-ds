{
  "nbformat": 4,
  "nbformat_minor": 0,
  "metadata": {
    "colab": {
      "name": "covid-19.ipynb",
      "provenance": [],
      "collapsed_sections": []
    },
    "kernelspec": {
      "name": "python3",
      "display_name": "Python 3"
    }
  },
  "cells": [
    {
      "cell_type": "code",
      "metadata": {
        "id": "sLb3Cide0DqJ",
        "colab_type": "code",
        "colab": {}
      },
      "source": [
        "import pandas as pd"
      ],
      "execution_count": 2,
      "outputs": []
    },
    {
      "cell_type": "markdown",
      "metadata": {
        "id": "uIHmONd-QZIR",
        "colab_type": "text"
      },
      "source": [
        "# corona statistics \n",
        "\n",
        "https://www.ecdc.europa.eu/en/publications-data/download-todays-data-geographic-distribution-covid-19-cases-worldwide"
      ]
    },
    {
      "cell_type": "code",
      "metadata": {
        "id": "hJlLK1Kw1lGY",
        "colab_type": "code",
        "colab": {
          "base_uri": "https://localhost:8080/",
          "height": 208
        },
        "outputId": "9f996e0c-0363-4b87-f664-410538e29975"
      },
      "source": [
        "! wget \"https://www.ecdc.europa.eu/sites/default/files/documents/COVID-19-geographic-disbtribution-worldwide-2020-06-24.xlsx\""
      ],
      "execution_count": 13,
      "outputs": [
        {
          "output_type": "stream",
          "text": [
            "--2020-06-25 11:37:18--  https://www.ecdc.europa.eu/sites/default/files/documents/COVID-19-geographic-disbtribution-worldwide-2020-06-24.xlsx\n",
            "Resolving www.ecdc.europa.eu (www.ecdc.europa.eu)... 54.240.168.122, 54.240.168.70, 54.240.168.123, ...\n",
            "Connecting to www.ecdc.europa.eu (www.ecdc.europa.eu)|54.240.168.122|:443... connected.\n",
            "HTTP request sent, awaiting response... 200 OK\n",
            "Length: 1191154 (1.1M) [application/vnd.openxmlformats-officedocument.spreadsheetml.sheet]\n",
            "Saving to: ‘COVID-19-geographic-disbtribution-worldwide-2020-06-24.xlsx.1’\n",
            "\n",
            "\r          COVID-19-   0%[                    ]       0  --.-KB/s               \rCOVID-19-geographic 100%[===================>]   1.14M  --.-KB/s    in 0.07s   \n",
            "\n",
            "2020-06-25 11:37:18 (15.9 MB/s) - ‘COVID-19-geographic-disbtribution-worldwide-2020-06-24.xlsx.1’ saved [1191154/1191154]\n",
            "\n"
          ],
          "name": "stdout"
        }
      ]
    },
    {
      "cell_type": "code",
      "metadata": {
        "id": "skJxSrNf0R6n",
        "colab_type": "code",
        "colab": {}
      },
      "source": [
        "corona = pd.read_excel(\"COVID-19-geographic-disbtribution-worldwide-2020-06-24.xlsx\", parse_dates=True) "
      ],
      "execution_count": 14,
      "outputs": []
    },
    {
      "cell_type": "code",
      "metadata": {
        "id": "CUcTKkWV1Kx4",
        "colab_type": "code",
        "colab": {
          "base_uri": "https://localhost:8080/",
          "height": 202
        },
        "outputId": "0ce53ef0-ab39-4d28-dc6a-7170ce6d71e3"
      },
      "source": [
        "corona.head()"
      ],
      "execution_count": 15,
      "outputs": [
        {
          "output_type": "execute_result",
          "data": {
            "text/html": [
              "<div>\n",
              "<style scoped>\n",
              "    .dataframe tbody tr th:only-of-type {\n",
              "        vertical-align: middle;\n",
              "    }\n",
              "\n",
              "    .dataframe tbody tr th {\n",
              "        vertical-align: top;\n",
              "    }\n",
              "\n",
              "    .dataframe thead th {\n",
              "        text-align: right;\n",
              "    }\n",
              "</style>\n",
              "<table border=\"1\" class=\"dataframe\">\n",
              "  <thead>\n",
              "    <tr style=\"text-align: right;\">\n",
              "      <th></th>\n",
              "      <th>dateRep</th>\n",
              "      <th>day</th>\n",
              "      <th>month</th>\n",
              "      <th>year</th>\n",
              "      <th>cases</th>\n",
              "      <th>deaths</th>\n",
              "      <th>countriesAndTerritories</th>\n",
              "      <th>geoId</th>\n",
              "      <th>countryterritoryCode</th>\n",
              "      <th>popData2019</th>\n",
              "      <th>continentExp</th>\n",
              "    </tr>\n",
              "  </thead>\n",
              "  <tbody>\n",
              "    <tr>\n",
              "      <th>0</th>\n",
              "      <td>2020-06-24</td>\n",
              "      <td>24</td>\n",
              "      <td>6</td>\n",
              "      <td>2020</td>\n",
              "      <td>338</td>\n",
              "      <td>20</td>\n",
              "      <td>Afghanistan</td>\n",
              "      <td>AF</td>\n",
              "      <td>AFG</td>\n",
              "      <td>38041757.0</td>\n",
              "      <td>Asia</td>\n",
              "    </tr>\n",
              "    <tr>\n",
              "      <th>1</th>\n",
              "      <td>2020-06-23</td>\n",
              "      <td>23</td>\n",
              "      <td>6</td>\n",
              "      <td>2020</td>\n",
              "      <td>310</td>\n",
              "      <td>17</td>\n",
              "      <td>Afghanistan</td>\n",
              "      <td>AF</td>\n",
              "      <td>AFG</td>\n",
              "      <td>38041757.0</td>\n",
              "      <td>Asia</td>\n",
              "    </tr>\n",
              "    <tr>\n",
              "      <th>2</th>\n",
              "      <td>2020-06-22</td>\n",
              "      <td>22</td>\n",
              "      <td>6</td>\n",
              "      <td>2020</td>\n",
              "      <td>409</td>\n",
              "      <td>12</td>\n",
              "      <td>Afghanistan</td>\n",
              "      <td>AF</td>\n",
              "      <td>AFG</td>\n",
              "      <td>38041757.0</td>\n",
              "      <td>Asia</td>\n",
              "    </tr>\n",
              "    <tr>\n",
              "      <th>3</th>\n",
              "      <td>2020-06-21</td>\n",
              "      <td>21</td>\n",
              "      <td>6</td>\n",
              "      <td>2020</td>\n",
              "      <td>546</td>\n",
              "      <td>21</td>\n",
              "      <td>Afghanistan</td>\n",
              "      <td>AF</td>\n",
              "      <td>AFG</td>\n",
              "      <td>38041757.0</td>\n",
              "      <td>Asia</td>\n",
              "    </tr>\n",
              "    <tr>\n",
              "      <th>4</th>\n",
              "      <td>2020-06-20</td>\n",
              "      <td>20</td>\n",
              "      <td>6</td>\n",
              "      <td>2020</td>\n",
              "      <td>346</td>\n",
              "      <td>2</td>\n",
              "      <td>Afghanistan</td>\n",
              "      <td>AF</td>\n",
              "      <td>AFG</td>\n",
              "      <td>38041757.0</td>\n",
              "      <td>Asia</td>\n",
              "    </tr>\n",
              "  </tbody>\n",
              "</table>\n",
              "</div>"
            ],
            "text/plain": [
              "     dateRep  day  month  ...  countryterritoryCode  popData2019  continentExp\n",
              "0 2020-06-24   24      6  ...                   AFG   38041757.0          Asia\n",
              "1 2020-06-23   23      6  ...                   AFG   38041757.0          Asia\n",
              "2 2020-06-22   22      6  ...                   AFG   38041757.0          Asia\n",
              "3 2020-06-21   21      6  ...                   AFG   38041757.0          Asia\n",
              "4 2020-06-20   20      6  ...                   AFG   38041757.0          Asia\n",
              "\n",
              "[5 rows x 11 columns]"
            ]
          },
          "metadata": {
            "tags": []
          },
          "execution_count": 15
        }
      ]
    },
    {
      "cell_type": "code",
      "metadata": {
        "id": "nn2wJQS01LyN",
        "colab_type": "code",
        "colab": {
          "base_uri": "https://localhost:8080/",
          "height": 202
        },
        "outputId": "2a58f18e-ef91-41c0-92cc-92c1e6cc1402"
      },
      "source": [
        "corona.sample(5)"
      ],
      "execution_count": 16,
      "outputs": [
        {
          "output_type": "execute_result",
          "data": {
            "text/html": [
              "<div>\n",
              "<style scoped>\n",
              "    .dataframe tbody tr th:only-of-type {\n",
              "        vertical-align: middle;\n",
              "    }\n",
              "\n",
              "    .dataframe tbody tr th {\n",
              "        vertical-align: top;\n",
              "    }\n",
              "\n",
              "    .dataframe thead th {\n",
              "        text-align: right;\n",
              "    }\n",
              "</style>\n",
              "<table border=\"1\" class=\"dataframe\">\n",
              "  <thead>\n",
              "    <tr style=\"text-align: right;\">\n",
              "      <th></th>\n",
              "      <th>dateRep</th>\n",
              "      <th>day</th>\n",
              "      <th>month</th>\n",
              "      <th>year</th>\n",
              "      <th>cases</th>\n",
              "      <th>deaths</th>\n",
              "      <th>countriesAndTerritories</th>\n",
              "      <th>geoId</th>\n",
              "      <th>countryterritoryCode</th>\n",
              "      <th>popData2019</th>\n",
              "      <th>continentExp</th>\n",
              "    </tr>\n",
              "  </thead>\n",
              "  <tbody>\n",
              "    <tr>\n",
              "      <th>18338</th>\n",
              "      <td>2020-04-09</td>\n",
              "      <td>9</td>\n",
              "      <td>4</td>\n",
              "      <td>2020</td>\n",
              "      <td>279</td>\n",
              "      <td>4</td>\n",
              "      <td>Panama</td>\n",
              "      <td>PA</td>\n",
              "      <td>PAN</td>\n",
              "      <td>4176869.0</td>\n",
              "      <td>America</td>\n",
              "    </tr>\n",
              "    <tr>\n",
              "      <th>12385</th>\n",
              "      <td>2020-04-08</td>\n",
              "      <td>8</td>\n",
              "      <td>4</td>\n",
              "      <td>2020</td>\n",
              "      <td>4</td>\n",
              "      <td>0</td>\n",
              "      <td>Jamaica</td>\n",
              "      <td>JM</td>\n",
              "      <td>JAM</td>\n",
              "      <td>2948277.0</td>\n",
              "      <td>America</td>\n",
              "    </tr>\n",
              "    <tr>\n",
              "      <th>13532</th>\n",
              "      <td>2020-04-13</td>\n",
              "      <td>13</td>\n",
              "      <td>4</td>\n",
              "      <td>2020</td>\n",
              "      <td>21</td>\n",
              "      <td>2</td>\n",
              "      <td>Latvia</td>\n",
              "      <td>LV</td>\n",
              "      <td>LVA</td>\n",
              "      <td>1919968.0</td>\n",
              "      <td>Europe</td>\n",
              "    </tr>\n",
              "    <tr>\n",
              "      <th>5874</th>\n",
              "      <td>2020-05-10</td>\n",
              "      <td>10</td>\n",
              "      <td>5</td>\n",
              "      <td>2020</td>\n",
              "      <td>13</td>\n",
              "      <td>0</td>\n",
              "      <td>Cuba</td>\n",
              "      <td>CU</td>\n",
              "      <td>CUB</td>\n",
              "      <td>11333484.0</td>\n",
              "      <td>America</td>\n",
              "    </tr>\n",
              "    <tr>\n",
              "      <th>17925</th>\n",
              "      <td>2020-02-25</td>\n",
              "      <td>25</td>\n",
              "      <td>2</td>\n",
              "      <td>2020</td>\n",
              "      <td>2</td>\n",
              "      <td>0</td>\n",
              "      <td>Oman</td>\n",
              "      <td>OM</td>\n",
              "      <td>OMN</td>\n",
              "      <td>4974992.0</td>\n",
              "      <td>Asia</td>\n",
              "    </tr>\n",
              "  </tbody>\n",
              "</table>\n",
              "</div>"
            ],
            "text/plain": [
              "         dateRep  day  month  ...  countryterritoryCode  popData2019  continentExp\n",
              "18338 2020-04-09    9      4  ...                   PAN    4176869.0       America\n",
              "12385 2020-04-08    8      4  ...                   JAM    2948277.0       America\n",
              "13532 2020-04-13   13      4  ...                   LVA    1919968.0        Europe\n",
              "5874  2020-05-10   10      5  ...                   CUB   11333484.0       America\n",
              "17925 2020-02-25   25      2  ...                   OMN    4974992.0          Asia\n",
              "\n",
              "[5 rows x 11 columns]"
            ]
          },
          "metadata": {
            "tags": []
          },
          "execution_count": 16
        }
      ]
    },
    {
      "cell_type": "code",
      "metadata": {
        "id": "JpcapViL1vBs",
        "colab_type": "code",
        "colab": {
          "base_uri": "https://localhost:8080/",
          "height": 202
        },
        "outputId": "df408521-c320-490c-ebe8-4991c1746d92"
      },
      "source": [
        "corona.sample(5)"
      ],
      "execution_count": 17,
      "outputs": [
        {
          "output_type": "execute_result",
          "data": {
            "text/html": [
              "<div>\n",
              "<style scoped>\n",
              "    .dataframe tbody tr th:only-of-type {\n",
              "        vertical-align: middle;\n",
              "    }\n",
              "\n",
              "    .dataframe tbody tr th {\n",
              "        vertical-align: top;\n",
              "    }\n",
              "\n",
              "    .dataframe thead th {\n",
              "        text-align: right;\n",
              "    }\n",
              "</style>\n",
              "<table border=\"1\" class=\"dataframe\">\n",
              "  <thead>\n",
              "    <tr style=\"text-align: right;\">\n",
              "      <th></th>\n",
              "      <th>dateRep</th>\n",
              "      <th>day</th>\n",
              "      <th>month</th>\n",
              "      <th>year</th>\n",
              "      <th>cases</th>\n",
              "      <th>deaths</th>\n",
              "      <th>countriesAndTerritories</th>\n",
              "      <th>geoId</th>\n",
              "      <th>countryterritoryCode</th>\n",
              "      <th>popData2019</th>\n",
              "      <th>continentExp</th>\n",
              "    </tr>\n",
              "  </thead>\n",
              "  <tbody>\n",
              "    <tr>\n",
              "      <th>8107</th>\n",
              "      <td>2020-04-24</td>\n",
              "      <td>24</td>\n",
              "      <td>4</td>\n",
              "      <td>2020</td>\n",
              "      <td>2</td>\n",
              "      <td>0</td>\n",
              "      <td>Faroe_Islands</td>\n",
              "      <td>FO</td>\n",
              "      <td>FRO</td>\n",
              "      <td>48497.0</td>\n",
              "      <td>Europe</td>\n",
              "    </tr>\n",
              "    <tr>\n",
              "      <th>9773</th>\n",
              "      <td>2020-04-25</td>\n",
              "      <td>25</td>\n",
              "      <td>4</td>\n",
              "      <td>2020</td>\n",
              "      <td>0</td>\n",
              "      <td>0</td>\n",
              "      <td>Grenada</td>\n",
              "      <td>GD</td>\n",
              "      <td>GRD</td>\n",
              "      <td>112002.0</td>\n",
              "      <td>America</td>\n",
              "    </tr>\n",
              "    <tr>\n",
              "      <th>7543</th>\n",
              "      <td>2020-05-04</td>\n",
              "      <td>4</td>\n",
              "      <td>5</td>\n",
              "      <td>2020</td>\n",
              "      <td>0</td>\n",
              "      <td>0</td>\n",
              "      <td>Eritrea</td>\n",
              "      <td>ER</td>\n",
              "      <td>ERI</td>\n",
              "      <td>3497117.0</td>\n",
              "      <td>Africa</td>\n",
              "    </tr>\n",
              "    <tr>\n",
              "      <th>12533</th>\n",
              "      <td>2020-02-24</td>\n",
              "      <td>24</td>\n",
              "      <td>2</td>\n",
              "      <td>2020</td>\n",
              "      <td>12</td>\n",
              "      <td>0</td>\n",
              "      <td>Japan</td>\n",
              "      <td>JP</td>\n",
              "      <td>JPN</td>\n",
              "      <td>126860299.0</td>\n",
              "      <td>Asia</td>\n",
              "    </tr>\n",
              "    <tr>\n",
              "      <th>8690</th>\n",
              "      <td>2020-06-22</td>\n",
              "      <td>22</td>\n",
              "      <td>6</td>\n",
              "      <td>2020</td>\n",
              "      <td>0</td>\n",
              "      <td>0</td>\n",
              "      <td>Gabon</td>\n",
              "      <td>GA</td>\n",
              "      <td>GAB</td>\n",
              "      <td>2172578.0</td>\n",
              "      <td>Africa</td>\n",
              "    </tr>\n",
              "  </tbody>\n",
              "</table>\n",
              "</div>"
            ],
            "text/plain": [
              "         dateRep  day  month  ...  countryterritoryCode  popData2019  continentExp\n",
              "8107  2020-04-24   24      4  ...                   FRO      48497.0        Europe\n",
              "9773  2020-04-25   25      4  ...                   GRD     112002.0       America\n",
              "7543  2020-05-04    4      5  ...                   ERI    3497117.0        Africa\n",
              "12533 2020-02-24   24      2  ...                   JPN  126860299.0          Asia\n",
              "8690  2020-06-22   22      6  ...                   GAB    2172578.0        Africa\n",
              "\n",
              "[5 rows x 11 columns]"
            ]
          },
          "metadata": {
            "tags": []
          },
          "execution_count": 17
        }
      ]
    },
    {
      "cell_type": "code",
      "metadata": {
        "id": "RzN23fGV10yM",
        "colab_type": "code",
        "colab": {
          "base_uri": "https://localhost:8080/",
          "height": 87
        },
        "outputId": "6a894a98-7818-441e-ec40-a99914cd38e1"
      },
      "source": [
        "corona.columns"
      ],
      "execution_count": 18,
      "outputs": [
        {
          "output_type": "execute_result",
          "data": {
            "text/plain": [
              "Index(['dateRep', 'day', 'month', 'year', 'cases', 'deaths',\n",
              "       'countriesAndTerritories', 'geoId', 'countryterritoryCode',\n",
              "       'popData2019', 'continentExp'],\n",
              "      dtype='object')"
            ]
          },
          "metadata": {
            "tags": []
          },
          "execution_count": 18
        }
      ]
    },
    {
      "cell_type": "code",
      "metadata": {
        "id": "sCweWRuo1_OF",
        "colab_type": "code",
        "colab": {
          "base_uri": "https://localhost:8080/",
          "height": 225
        },
        "outputId": "a1a19e34-b3cc-4f9b-953b-f20098d005aa"
      },
      "source": [
        "corona.isna().any()"
      ],
      "execution_count": 19,
      "outputs": [
        {
          "output_type": "execute_result",
          "data": {
            "text/plain": [
              "dateRep                    False\n",
              "day                        False\n",
              "month                      False\n",
              "year                       False\n",
              "cases                      False\n",
              "deaths                     False\n",
              "countriesAndTerritories    False\n",
              "geoId                       True\n",
              "countryterritoryCode        True\n",
              "popData2019                 True\n",
              "continentExp               False\n",
              "dtype: bool"
            ]
          },
          "metadata": {
            "tags": []
          },
          "execution_count": 19
        }
      ]
    },
    {
      "cell_type": "code",
      "metadata": {
        "id": "B1mdGW5IQ1wi",
        "colab_type": "code",
        "colab": {
          "base_uri": "https://localhost:8080/",
          "height": 849
        },
        "outputId": "690062ae-93e8-47ea-81fb-9adcf4984232"
      },
      "source": [
        "corona.countriesAndTerritories.unique()"
      ],
      "execution_count": 20,
      "outputs": [
        {
          "output_type": "execute_result",
          "data": {
            "text/plain": [
              "array(['Afghanistan', 'Albania', 'Algeria', 'Andorra', 'Angola',\n",
              "       'Anguilla', 'Antigua_and_Barbuda', 'Argentina', 'Armenia', 'Aruba',\n",
              "       'Australia', 'Austria', 'Azerbaijan', 'Bahamas', 'Bahrain',\n",
              "       'Bangladesh', 'Barbados', 'Belarus', 'Belgium', 'Belize', 'Benin',\n",
              "       'Bermuda', 'Bhutan', 'Bolivia',\n",
              "       'Bonaire, Saint Eustatius and Saba', 'Bosnia_and_Herzegovina',\n",
              "       'Botswana', 'Brazil', 'British_Virgin_Islands',\n",
              "       'Brunei_Darussalam', 'Bulgaria', 'Burkina_Faso', 'Burundi',\n",
              "       'Cambodia', 'Cameroon', 'Canada', 'Cape_Verde',\n",
              "       'Cases_on_an_international_conveyance_Japan', 'Cayman_Islands',\n",
              "       'Central_African_Republic', 'Chad', 'Chile', 'China', 'Colombia',\n",
              "       'Comoros', 'Congo', 'Costa_Rica', 'Cote_dIvoire', 'Croatia',\n",
              "       'Cuba', 'CuraÃ§ao', 'Cyprus', 'Czechia',\n",
              "       'Democratic_Republic_of_the_Congo', 'Denmark', 'Djibouti',\n",
              "       'Dominica', 'Dominican_Republic', 'Ecuador', 'Egypt',\n",
              "       'El_Salvador', 'Equatorial_Guinea', 'Eritrea', 'Estonia',\n",
              "       'Eswatini', 'Ethiopia', 'Falkland_Islands_(Malvinas)',\n",
              "       'Faroe_Islands', 'Fiji', 'Finland', 'France', 'French_Polynesia',\n",
              "       'Gabon', 'Gambia', 'Georgia', 'Germany', 'Ghana', 'Gibraltar',\n",
              "       'Greece', 'Greenland', 'Grenada', 'Guam', 'Guatemala', 'Guernsey',\n",
              "       'Guinea', 'Guinea_Bissau', 'Guyana', 'Haiti', 'Holy_See',\n",
              "       'Honduras', 'Hungary', 'Iceland', 'India', 'Indonesia', 'Iran',\n",
              "       'Iraq', 'Ireland', 'Isle_of_Man', 'Israel', 'Italy', 'Jamaica',\n",
              "       'Japan', 'Jersey', 'Jordan', 'Kazakhstan', 'Kenya', 'Kosovo',\n",
              "       'Kuwait', 'Kyrgyzstan', 'Laos', 'Latvia', 'Lebanon', 'Lesotho',\n",
              "       'Liberia', 'Libya', 'Liechtenstein', 'Lithuania', 'Luxembourg',\n",
              "       'Madagascar', 'Malawi', 'Malaysia', 'Maldives', 'Mali', 'Malta',\n",
              "       'Mauritania', 'Mauritius', 'Mexico', 'Moldova', 'Monaco',\n",
              "       'Mongolia', 'Montenegro', 'Montserrat', 'Morocco', 'Mozambique',\n",
              "       'Myanmar', 'Namibia', 'Nepal', 'Netherlands', 'New_Caledonia',\n",
              "       'New_Zealand', 'Nicaragua', 'Niger', 'Nigeria', 'North_Macedonia',\n",
              "       'Northern_Mariana_Islands', 'Norway', 'Oman', 'Pakistan',\n",
              "       'Palestine', 'Panama', 'Papua_New_Guinea', 'Paraguay', 'Peru',\n",
              "       'Philippines', 'Poland', 'Portugal', 'Puerto_Rico', 'Qatar',\n",
              "       'Romania', 'Russia', 'Rwanda', 'Saint_Kitts_and_Nevis',\n",
              "       'Saint_Lucia', 'Saint_Vincent_and_the_Grenadines', 'San_Marino',\n",
              "       'Sao_Tome_and_Principe', 'Saudi_Arabia', 'Senegal', 'Serbia',\n",
              "       'Seychelles', 'Sierra_Leone', 'Singapore', 'Sint_Maarten',\n",
              "       'Slovakia', 'Slovenia', 'Somalia', 'South_Africa', 'South_Korea',\n",
              "       'South_Sudan', 'Spain', 'Sri_Lanka', 'Sudan', 'Suriname', 'Sweden',\n",
              "       'Switzerland', 'Syria', 'Taiwan', 'Tajikistan', 'Thailand',\n",
              "       'Timor_Leste', 'Togo', 'Trinidad_and_Tobago', 'Tunisia', 'Turkey',\n",
              "       'Turks_and_Caicos_islands', 'Uganda', 'Ukraine',\n",
              "       'United_Arab_Emirates', 'United_Kingdom',\n",
              "       'United_Republic_of_Tanzania', 'United_States_of_America',\n",
              "       'United_States_Virgin_Islands', 'Uruguay', 'Uzbekistan',\n",
              "       'Venezuela', 'Vietnam', 'Western_Sahara', 'Yemen', 'Zambia',\n",
              "       'Zimbabwe'], dtype=object)"
            ]
          },
          "metadata": {
            "tags": []
          },
          "execution_count": 20
        }
      ]
    },
    {
      "cell_type": "code",
      "metadata": {
        "id": "rV_F9wDXRNbt",
        "colab_type": "code",
        "colab": {
          "base_uri": "https://localhost:8080/",
          "height": 35
        },
        "outputId": "309a6a57-ab98-4059-8fec-986f1ba06481"
      },
      "source": [
        "len(corona.countriesAndTerritories.unique())"
      ],
      "execution_count": 22,
      "outputs": [
        {
          "output_type": "execute_result",
          "data": {
            "text/plain": [
              "210"
            ]
          },
          "metadata": {
            "tags": []
          },
          "execution_count": 22
        }
      ]
    },
    {
      "cell_type": "code",
      "metadata": {
        "id": "h2zHw54w2qIT",
        "colab_type": "code",
        "colab": {
          "base_uri": "https://localhost:8080/",
          "height": 225
        },
        "outputId": "e009a216-d31b-4ff5-ad1f-d7aea9081387"
      },
      "source": [
        "corona['countriesAndTerritories'].value_counts()"
      ],
      "execution_count": 21,
      "outputs": [
        {
          "output_type": "execute_result",
          "data": {
            "text/plain": [
              "Canada                                        177\n",
              "France                                        177\n",
              "Belgium                                       177\n",
              "Iran                                          177\n",
              "Denmark                                       177\n",
              "                                             ... \n",
              "Cases_on_an_international_conveyance_Japan     64\n",
              "Western_Sahara                                 60\n",
              "Tajikistan                                     55\n",
              "Comoros                                        54\n",
              "Lesotho                                        41\n",
              "Name: countriesAndTerritories, Length: 210, dtype: int64"
            ]
          },
          "metadata": {
            "tags": []
          },
          "execution_count": 21
        }
      ]
    },
    {
      "cell_type": "code",
      "metadata": {
        "id": "SgaF0EN2RqGP",
        "colab_type": "code",
        "colab": {
          "base_uri": "https://localhost:8080/",
          "height": 35
        },
        "outputId": "ddb3c9a0-05ed-4393-f315-d4e3359e8a70"
      },
      "source": [
        "population_mean = corona.popData2019.mean()\n",
        "population_mean"
      ],
      "execution_count": 25,
      "outputs": [
        {
          "output_type": "execute_result",
          "data": {
            "text/plain": [
              "47106591.20736259"
            ]
          },
          "metadata": {
            "tags": []
          },
          "execution_count": 25
        }
      ]
    },
    {
      "cell_type": "code",
      "metadata": {
        "id": "5xV7V2iTR1sZ",
        "colab_type": "code",
        "colab": {
          "base_uri": "https://localhost:8080/",
          "height": 225
        },
        "outputId": "8ebe9266-f64d-42af-d889-3d1df0ef22ee"
      },
      "source": [
        "corona.popData2019 - population_mean"
      ],
      "execution_count": 26,
      "outputs": [
        {
          "output_type": "execute_result",
          "data": {
            "text/plain": [
              "0       -9.064834e+06\n",
              "1       -9.064834e+06\n",
              "2       -9.064834e+06\n",
              "3       -9.064834e+06\n",
              "4       -9.064834e+06\n",
              "             ...     \n",
              "25512   -3.246112e+07\n",
              "25513   -3.246112e+07\n",
              "25514   -3.246112e+07\n",
              "25515   -3.246112e+07\n",
              "25516   -3.246112e+07\n",
              "Name: popData2019, Length: 25517, dtype: float64"
            ]
          },
          "metadata": {
            "tags": []
          },
          "execution_count": 26
        }
      ]
    },
    {
      "cell_type": "code",
      "metadata": {
        "id": "jkxdqu5vSFS7",
        "colab_type": "code",
        "colab": {
          "base_uri": "https://localhost:8080/",
          "height": 225
        },
        "outputId": "5e204f00-6de0-447f-d3f2-7c76d90a636b"
      },
      "source": [
        "corona.countriesAndTerritories + ' - ' + corona.continentExp"
      ],
      "execution_count": 27,
      "outputs": [
        {
          "output_type": "execute_result",
          "data": {
            "text/plain": [
              "0        Afghanistan - Asia\n",
              "1        Afghanistan - Asia\n",
              "2        Afghanistan - Asia\n",
              "3        Afghanistan - Asia\n",
              "4        Afghanistan - Asia\n",
              "                ...        \n",
              "25512     Zimbabwe - Africa\n",
              "25513     Zimbabwe - Africa\n",
              "25514     Zimbabwe - Africa\n",
              "25515     Zimbabwe - Africa\n",
              "25516     Zimbabwe - Africa\n",
              "Length: 25517, dtype: object"
            ]
          },
          "metadata": {
            "tags": []
          },
          "execution_count": 27
        }
      ]
    },
    {
      "cell_type": "code",
      "metadata": {
        "id": "ygu1ZC6dSRli",
        "colab_type": "code",
        "colab": {
          "base_uri": "https://localhost:8080/",
          "height": 415
        },
        "outputId": "8219f0ab-03e0-464f-84d1-8a807ca86e15"
      },
      "source": [
        "corona"
      ],
      "execution_count": 28,
      "outputs": [
        {
          "output_type": "execute_result",
          "data": {
            "text/html": [
              "<div>\n",
              "<style scoped>\n",
              "    .dataframe tbody tr th:only-of-type {\n",
              "        vertical-align: middle;\n",
              "    }\n",
              "\n",
              "    .dataframe tbody tr th {\n",
              "        vertical-align: top;\n",
              "    }\n",
              "\n",
              "    .dataframe thead th {\n",
              "        text-align: right;\n",
              "    }\n",
              "</style>\n",
              "<table border=\"1\" class=\"dataframe\">\n",
              "  <thead>\n",
              "    <tr style=\"text-align: right;\">\n",
              "      <th></th>\n",
              "      <th>dateRep</th>\n",
              "      <th>day</th>\n",
              "      <th>month</th>\n",
              "      <th>year</th>\n",
              "      <th>cases</th>\n",
              "      <th>deaths</th>\n",
              "      <th>countriesAndTerritories</th>\n",
              "      <th>geoId</th>\n",
              "      <th>countryterritoryCode</th>\n",
              "      <th>popData2019</th>\n",
              "      <th>continentExp</th>\n",
              "    </tr>\n",
              "  </thead>\n",
              "  <tbody>\n",
              "    <tr>\n",
              "      <th>0</th>\n",
              "      <td>2020-06-24</td>\n",
              "      <td>24</td>\n",
              "      <td>6</td>\n",
              "      <td>2020</td>\n",
              "      <td>338</td>\n",
              "      <td>20</td>\n",
              "      <td>Afghanistan</td>\n",
              "      <td>AF</td>\n",
              "      <td>AFG</td>\n",
              "      <td>38041757.0</td>\n",
              "      <td>Asia</td>\n",
              "    </tr>\n",
              "    <tr>\n",
              "      <th>1</th>\n",
              "      <td>2020-06-23</td>\n",
              "      <td>23</td>\n",
              "      <td>6</td>\n",
              "      <td>2020</td>\n",
              "      <td>310</td>\n",
              "      <td>17</td>\n",
              "      <td>Afghanistan</td>\n",
              "      <td>AF</td>\n",
              "      <td>AFG</td>\n",
              "      <td>38041757.0</td>\n",
              "      <td>Asia</td>\n",
              "    </tr>\n",
              "    <tr>\n",
              "      <th>2</th>\n",
              "      <td>2020-06-22</td>\n",
              "      <td>22</td>\n",
              "      <td>6</td>\n",
              "      <td>2020</td>\n",
              "      <td>409</td>\n",
              "      <td>12</td>\n",
              "      <td>Afghanistan</td>\n",
              "      <td>AF</td>\n",
              "      <td>AFG</td>\n",
              "      <td>38041757.0</td>\n",
              "      <td>Asia</td>\n",
              "    </tr>\n",
              "    <tr>\n",
              "      <th>3</th>\n",
              "      <td>2020-06-21</td>\n",
              "      <td>21</td>\n",
              "      <td>6</td>\n",
              "      <td>2020</td>\n",
              "      <td>546</td>\n",
              "      <td>21</td>\n",
              "      <td>Afghanistan</td>\n",
              "      <td>AF</td>\n",
              "      <td>AFG</td>\n",
              "      <td>38041757.0</td>\n",
              "      <td>Asia</td>\n",
              "    </tr>\n",
              "    <tr>\n",
              "      <th>4</th>\n",
              "      <td>2020-06-20</td>\n",
              "      <td>20</td>\n",
              "      <td>6</td>\n",
              "      <td>2020</td>\n",
              "      <td>346</td>\n",
              "      <td>2</td>\n",
              "      <td>Afghanistan</td>\n",
              "      <td>AF</td>\n",
              "      <td>AFG</td>\n",
              "      <td>38041757.0</td>\n",
              "      <td>Asia</td>\n",
              "    </tr>\n",
              "    <tr>\n",
              "      <th>...</th>\n",
              "      <td>...</td>\n",
              "      <td>...</td>\n",
              "      <td>...</td>\n",
              "      <td>...</td>\n",
              "      <td>...</td>\n",
              "      <td>...</td>\n",
              "      <td>...</td>\n",
              "      <td>...</td>\n",
              "      <td>...</td>\n",
              "      <td>...</td>\n",
              "      <td>...</td>\n",
              "    </tr>\n",
              "    <tr>\n",
              "      <th>25512</th>\n",
              "      <td>2020-03-25</td>\n",
              "      <td>25</td>\n",
              "      <td>3</td>\n",
              "      <td>2020</td>\n",
              "      <td>0</td>\n",
              "      <td>0</td>\n",
              "      <td>Zimbabwe</td>\n",
              "      <td>ZW</td>\n",
              "      <td>ZWE</td>\n",
              "      <td>14645473.0</td>\n",
              "      <td>Africa</td>\n",
              "    </tr>\n",
              "    <tr>\n",
              "      <th>25513</th>\n",
              "      <td>2020-03-24</td>\n",
              "      <td>24</td>\n",
              "      <td>3</td>\n",
              "      <td>2020</td>\n",
              "      <td>0</td>\n",
              "      <td>1</td>\n",
              "      <td>Zimbabwe</td>\n",
              "      <td>ZW</td>\n",
              "      <td>ZWE</td>\n",
              "      <td>14645473.0</td>\n",
              "      <td>Africa</td>\n",
              "    </tr>\n",
              "    <tr>\n",
              "      <th>25514</th>\n",
              "      <td>2020-03-23</td>\n",
              "      <td>23</td>\n",
              "      <td>3</td>\n",
              "      <td>2020</td>\n",
              "      <td>0</td>\n",
              "      <td>0</td>\n",
              "      <td>Zimbabwe</td>\n",
              "      <td>ZW</td>\n",
              "      <td>ZWE</td>\n",
              "      <td>14645473.0</td>\n",
              "      <td>Africa</td>\n",
              "    </tr>\n",
              "    <tr>\n",
              "      <th>25515</th>\n",
              "      <td>2020-03-22</td>\n",
              "      <td>22</td>\n",
              "      <td>3</td>\n",
              "      <td>2020</td>\n",
              "      <td>1</td>\n",
              "      <td>0</td>\n",
              "      <td>Zimbabwe</td>\n",
              "      <td>ZW</td>\n",
              "      <td>ZWE</td>\n",
              "      <td>14645473.0</td>\n",
              "      <td>Africa</td>\n",
              "    </tr>\n",
              "    <tr>\n",
              "      <th>25516</th>\n",
              "      <td>2020-03-21</td>\n",
              "      <td>21</td>\n",
              "      <td>3</td>\n",
              "      <td>2020</td>\n",
              "      <td>1</td>\n",
              "      <td>0</td>\n",
              "      <td>Zimbabwe</td>\n",
              "      <td>ZW</td>\n",
              "      <td>ZWE</td>\n",
              "      <td>14645473.0</td>\n",
              "      <td>Africa</td>\n",
              "    </tr>\n",
              "  </tbody>\n",
              "</table>\n",
              "<p>25517 rows × 11 columns</p>\n",
              "</div>"
            ],
            "text/plain": [
              "         dateRep  day  month  ...  countryterritoryCode  popData2019  continentExp\n",
              "0     2020-06-24   24      6  ...                   AFG   38041757.0          Asia\n",
              "1     2020-06-23   23      6  ...                   AFG   38041757.0          Asia\n",
              "2     2020-06-22   22      6  ...                   AFG   38041757.0          Asia\n",
              "3     2020-06-21   21      6  ...                   AFG   38041757.0          Asia\n",
              "4     2020-06-20   20      6  ...                   AFG   38041757.0          Asia\n",
              "...          ...  ...    ...  ...                   ...          ...           ...\n",
              "25512 2020-03-25   25      3  ...                   ZWE   14645473.0        Africa\n",
              "25513 2020-03-24   24      3  ...                   ZWE   14645473.0        Africa\n",
              "25514 2020-03-23   23      3  ...                   ZWE   14645473.0        Africa\n",
              "25515 2020-03-22   22      3  ...                   ZWE   14645473.0        Africa\n",
              "25516 2020-03-21   21      3  ...                   ZWE   14645473.0        Africa\n",
              "\n",
              "[25517 rows x 11 columns]"
            ]
          },
          "metadata": {
            "tags": []
          },
          "execution_count": 28
        }
      ]
    },
    {
      "cell_type": "code",
      "metadata": {
        "id": "K1x9I7UrSfkn",
        "colab_type": "code",
        "colab": {
          "base_uri": "https://localhost:8080/",
          "height": 243
        },
        "outputId": "286ef1c9-8337-44ab-e77b-0d5076ff6b67"
      },
      "source": [
        "corona.groupby('countriesAndTerritories').deaths.max()"
      ],
      "execution_count": 32,
      "outputs": [
        {
          "output_type": "execute_result",
          "data": {
            "text/plain": [
              "countriesAndTerritories\n",
              "Afghanistan       42\n",
              "Albania            3\n",
              "Algeria           42\n",
              "Andorra            4\n",
              "Angola             2\n",
              "                  ..\n",
              "Vietnam            0\n",
              "Western_Sahara     1\n",
              "Yemen             44\n",
              "Zambia             7\n",
              "Zimbabwe           2\n",
              "Name: deaths, Length: 210, dtype: int64"
            ]
          },
          "metadata": {
            "tags": []
          },
          "execution_count": 32
        }
      ]
    },
    {
      "cell_type": "code",
      "metadata": {
        "id": "TgIa4ilWTDs4",
        "colab_type": "code",
        "colab": {
          "base_uri": "https://localhost:8080/",
          "height": 387
        },
        "outputId": "ce0f1ea4-6197-447c-c3d6-deea03fa132f"
      },
      "source": [
        "corona.groupby(['continentExp']).apply(lambda df: df.loc[df.deaths.idxmax()])"
      ],
      "execution_count": 36,
      "outputs": [
        {
          "output_type": "execute_result",
          "data": {
            "text/html": [
              "<div>\n",
              "<style scoped>\n",
              "    .dataframe tbody tr th:only-of-type {\n",
              "        vertical-align: middle;\n",
              "    }\n",
              "\n",
              "    .dataframe tbody tr th {\n",
              "        vertical-align: top;\n",
              "    }\n",
              "\n",
              "    .dataframe thead th {\n",
              "        text-align: right;\n",
              "    }\n",
              "</style>\n",
              "<table border=\"1\" class=\"dataframe\">\n",
              "  <thead>\n",
              "    <tr style=\"text-align: right;\">\n",
              "      <th></th>\n",
              "      <th>dateRep</th>\n",
              "      <th>day</th>\n",
              "      <th>month</th>\n",
              "      <th>year</th>\n",
              "      <th>cases</th>\n",
              "      <th>deaths</th>\n",
              "      <th>countriesAndTerritories</th>\n",
              "      <th>geoId</th>\n",
              "      <th>countryterritoryCode</th>\n",
              "      <th>popData2019</th>\n",
              "      <th>continentExp</th>\n",
              "    </tr>\n",
              "    <tr>\n",
              "      <th>continentExp</th>\n",
              "      <th></th>\n",
              "      <th></th>\n",
              "      <th></th>\n",
              "      <th></th>\n",
              "      <th></th>\n",
              "      <th></th>\n",
              "      <th></th>\n",
              "      <th></th>\n",
              "      <th></th>\n",
              "      <th></th>\n",
              "      <th></th>\n",
              "    </tr>\n",
              "  </thead>\n",
              "  <tbody>\n",
              "    <tr>\n",
              "      <th>Africa</th>\n",
              "      <td>2020-06-24</td>\n",
              "      <td>24</td>\n",
              "      <td>6</td>\n",
              "      <td>2020</td>\n",
              "      <td>4518</td>\n",
              "      <td>111</td>\n",
              "      <td>South_Africa</td>\n",
              "      <td>ZA</td>\n",
              "      <td>ZAF</td>\n",
              "      <td>5.855827e+07</td>\n",
              "      <td>Africa</td>\n",
              "    </tr>\n",
              "    <tr>\n",
              "      <th>America</th>\n",
              "      <td>2020-04-16</td>\n",
              "      <td>16</td>\n",
              "      <td>4</td>\n",
              "      <td>2020</td>\n",
              "      <td>30148</td>\n",
              "      <td>4928</td>\n",
              "      <td>United_States_of_America</td>\n",
              "      <td>US</td>\n",
              "      <td>USA</td>\n",
              "      <td>3.290649e+08</td>\n",
              "      <td>America</td>\n",
              "    </tr>\n",
              "    <tr>\n",
              "      <th>Asia</th>\n",
              "      <td>2020-06-17</td>\n",
              "      <td>17</td>\n",
              "      <td>6</td>\n",
              "      <td>2020</td>\n",
              "      <td>10974</td>\n",
              "      <td>2003</td>\n",
              "      <td>India</td>\n",
              "      <td>IN</td>\n",
              "      <td>IND</td>\n",
              "      <td>1.366418e+09</td>\n",
              "      <td>Asia</td>\n",
              "    </tr>\n",
              "    <tr>\n",
              "      <th>Europe</th>\n",
              "      <td>2020-04-04</td>\n",
              "      <td>4</td>\n",
              "      <td>4</td>\n",
              "      <td>2020</td>\n",
              "      <td>5233</td>\n",
              "      <td>2004</td>\n",
              "      <td>France</td>\n",
              "      <td>FR</td>\n",
              "      <td>FRA</td>\n",
              "      <td>6.701288e+07</td>\n",
              "      <td>Europe</td>\n",
              "    </tr>\n",
              "    <tr>\n",
              "      <th>Oceania</th>\n",
              "      <td>2020-04-04</td>\n",
              "      <td>4</td>\n",
              "      <td>4</td>\n",
              "      <td>2020</td>\n",
              "      <td>324</td>\n",
              "      <td>7</td>\n",
              "      <td>Australia</td>\n",
              "      <td>AU</td>\n",
              "      <td>AUS</td>\n",
              "      <td>2.520320e+07</td>\n",
              "      <td>Oceania</td>\n",
              "    </tr>\n",
              "    <tr>\n",
              "      <th>Other</th>\n",
              "      <td>2020-02-29</td>\n",
              "      <td>29</td>\n",
              "      <td>2</td>\n",
              "      <td>2020</td>\n",
              "      <td>0</td>\n",
              "      <td>2</td>\n",
              "      <td>Cases_on_an_international_conveyance_Japan</td>\n",
              "      <td>JPG11668</td>\n",
              "      <td>NaN</td>\n",
              "      <td>NaN</td>\n",
              "      <td>Other</td>\n",
              "    </tr>\n",
              "  </tbody>\n",
              "</table>\n",
              "</div>"
            ],
            "text/plain": [
              "                dateRep  day  ...   popData2019  continentExp\n",
              "continentExp                  ...                            \n",
              "Africa       2020-06-24   24  ...  5.855827e+07        Africa\n",
              "America      2020-04-16   16  ...  3.290649e+08       America\n",
              "Asia         2020-06-17   17  ...  1.366418e+09          Asia\n",
              "Europe       2020-04-04    4  ...  6.701288e+07        Europe\n",
              "Oceania      2020-04-04    4  ...  2.520320e+07       Oceania\n",
              "Other        2020-02-29   29  ...           NaN         Other\n",
              "\n",
              "[6 rows x 11 columns]"
            ]
          },
          "metadata": {
            "tags": []
          },
          "execution_count": 36
        }
      ]
    },
    {
      "cell_type": "code",
      "metadata": {
        "id": "yATUawkoULTu",
        "colab_type": "code",
        "colab": {
          "base_uri": "https://localhost:8080/",
          "height": 263
        },
        "outputId": "b4ff067b-c1d2-45a4-c66d-babb3cf55265"
      },
      "source": [
        "corona.groupby(['continentExp']).deaths.agg([len, max])"
      ],
      "execution_count": 38,
      "outputs": [
        {
          "output_type": "execute_result",
          "data": {
            "text/html": [
              "<div>\n",
              "<style scoped>\n",
              "    .dataframe tbody tr th:only-of-type {\n",
              "        vertical-align: middle;\n",
              "    }\n",
              "\n",
              "    .dataframe tbody tr th {\n",
              "        vertical-align: top;\n",
              "    }\n",
              "\n",
              "    .dataframe thead th {\n",
              "        text-align: right;\n",
              "    }\n",
              "</style>\n",
              "<table border=\"1\" class=\"dataframe\">\n",
              "  <thead>\n",
              "    <tr style=\"text-align: right;\">\n",
              "      <th></th>\n",
              "      <th>len</th>\n",
              "      <th>max</th>\n",
              "    </tr>\n",
              "    <tr>\n",
              "      <th>continentExp</th>\n",
              "      <th></th>\n",
              "      <th></th>\n",
              "    </tr>\n",
              "  </thead>\n",
              "  <tbody>\n",
              "    <tr>\n",
              "      <th>Africa</th>\n",
              "      <td>5466</td>\n",
              "      <td>111</td>\n",
              "    </tr>\n",
              "    <tr>\n",
              "      <th>America</th>\n",
              "      <td>5257</td>\n",
              "      <td>4928</td>\n",
              "    </tr>\n",
              "    <tr>\n",
              "      <th>Asia</th>\n",
              "      <td>6076</td>\n",
              "      <td>2003</td>\n",
              "    </tr>\n",
              "    <tr>\n",
              "      <th>Europe</th>\n",
              "      <td>7738</td>\n",
              "      <td>2004</td>\n",
              "    </tr>\n",
              "    <tr>\n",
              "      <th>Oceania</th>\n",
              "      <td>916</td>\n",
              "      <td>7</td>\n",
              "    </tr>\n",
              "    <tr>\n",
              "      <th>Other</th>\n",
              "      <td>64</td>\n",
              "      <td>2</td>\n",
              "    </tr>\n",
              "  </tbody>\n",
              "</table>\n",
              "</div>"
            ],
            "text/plain": [
              "               len   max\n",
              "continentExp            \n",
              "Africa        5466   111\n",
              "America       5257  4928\n",
              "Asia          6076  2003\n",
              "Europe        7738  2004\n",
              "Oceania        916     7\n",
              "Other           64     2"
            ]
          },
          "metadata": {
            "tags": []
          },
          "execution_count": 38
        }
      ]
    },
    {
      "cell_type": "code",
      "metadata": {
        "id": "zECwjN8qUpA1",
        "colab_type": "code",
        "colab": {
          "base_uri": "https://localhost:8080/",
          "height": 233
        },
        "outputId": "ee8c12f5-54e3-4563-a486-19aa65e6add8"
      },
      "source": [
        "corona.describe().transpose()"
      ],
      "execution_count": 39,
      "outputs": [
        {
          "output_type": "execute_result",
          "data": {
            "text/html": [
              "<div>\n",
              "<style scoped>\n",
              "    .dataframe tbody tr th:only-of-type {\n",
              "        vertical-align: middle;\n",
              "    }\n",
              "\n",
              "    .dataframe tbody tr th {\n",
              "        vertical-align: top;\n",
              "    }\n",
              "\n",
              "    .dataframe thead th {\n",
              "        text-align: right;\n",
              "    }\n",
              "</style>\n",
              "<table border=\"1\" class=\"dataframe\">\n",
              "  <thead>\n",
              "    <tr style=\"text-align: right;\">\n",
              "      <th></th>\n",
              "      <th>count</th>\n",
              "      <th>mean</th>\n",
              "      <th>std</th>\n",
              "      <th>min</th>\n",
              "      <th>25%</th>\n",
              "      <th>50%</th>\n",
              "      <th>75%</th>\n",
              "      <th>max</th>\n",
              "    </tr>\n",
              "  </thead>\n",
              "  <tbody>\n",
              "    <tr>\n",
              "      <th>day</th>\n",
              "      <td>25517.0</td>\n",
              "      <td>1.576616e+01</td>\n",
              "      <td>8.635491e+00</td>\n",
              "      <td>1.0</td>\n",
              "      <td>8.0</td>\n",
              "      <td>16.0</td>\n",
              "      <td>23.0</td>\n",
              "      <td>3.100000e+01</td>\n",
              "    </tr>\n",
              "    <tr>\n",
              "      <th>month</th>\n",
              "      <td>25517.0</td>\n",
              "      <td>4.120861e+00</td>\n",
              "      <td>1.542715e+00</td>\n",
              "      <td>1.0</td>\n",
              "      <td>3.0</td>\n",
              "      <td>4.0</td>\n",
              "      <td>5.0</td>\n",
              "      <td>1.200000e+01</td>\n",
              "    </tr>\n",
              "    <tr>\n",
              "      <th>year</th>\n",
              "      <td>25517.0</td>\n",
              "      <td>2.019997e+03</td>\n",
              "      <td>5.117528e-02</td>\n",
              "      <td>2019.0</td>\n",
              "      <td>2020.0</td>\n",
              "      <td>2020.0</td>\n",
              "      <td>2020.0</td>\n",
              "      <td>2.020000e+03</td>\n",
              "    </tr>\n",
              "    <tr>\n",
              "      <th>cases</th>\n",
              "      <td>25517.0</td>\n",
              "      <td>3.616824e+02</td>\n",
              "      <td>2.044754e+03</td>\n",
              "      <td>-2461.0</td>\n",
              "      <td>0.0</td>\n",
              "      <td>3.0</td>\n",
              "      <td>64.0</td>\n",
              "      <td>5.477100e+04</td>\n",
              "    </tr>\n",
              "    <tr>\n",
              "      <th>deaths</th>\n",
              "      <td>25517.0</td>\n",
              "      <td>1.870396e+01</td>\n",
              "      <td>1.213088e+02</td>\n",
              "      <td>-1918.0</td>\n",
              "      <td>0.0</td>\n",
              "      <td>0.0</td>\n",
              "      <td>1.0</td>\n",
              "      <td>4.928000e+03</td>\n",
              "    </tr>\n",
              "    <tr>\n",
              "      <th>popData2019</th>\n",
              "      <td>25453.0</td>\n",
              "      <td>4.710659e+07</td>\n",
              "      <td>1.684092e+08</td>\n",
              "      <td>815.0</td>\n",
              "      <td>1919968.0</td>\n",
              "      <td>8858775.0</td>\n",
              "      <td>31949789.0</td>\n",
              "      <td>1.433784e+09</td>\n",
              "    </tr>\n",
              "  </tbody>\n",
              "</table>\n",
              "</div>"
            ],
            "text/plain": [
              "               count          mean  ...         75%           max\n",
              "day          25517.0  1.576616e+01  ...        23.0  3.100000e+01\n",
              "month        25517.0  4.120861e+00  ...         5.0  1.200000e+01\n",
              "year         25517.0  2.019997e+03  ...      2020.0  2.020000e+03\n",
              "cases        25517.0  3.616824e+02  ...        64.0  5.477100e+04\n",
              "deaths       25517.0  1.870396e+01  ...         1.0  4.928000e+03\n",
              "popData2019  25453.0  4.710659e+07  ...  31949789.0  1.433784e+09\n",
              "\n",
              "[6 rows x 8 columns]"
            ]
          },
          "metadata": {
            "tags": []
          },
          "execution_count": 39
        }
      ]
    },
    {
      "cell_type": "code",
      "metadata": {
        "id": "tI-3mmxGVHJ8",
        "colab_type": "code",
        "colab": {
          "base_uri": "https://localhost:8080/",
          "height": 233
        },
        "outputId": "f6086d33-a1a5-4aca-b262-c05f09676f17"
      },
      "source": [
        "corona.corr()"
      ],
      "execution_count": 40,
      "outputs": [
        {
          "output_type": "execute_result",
          "data": {
            "text/html": [
              "<div>\n",
              "<style scoped>\n",
              "    .dataframe tbody tr th:only-of-type {\n",
              "        vertical-align: middle;\n",
              "    }\n",
              "\n",
              "    .dataframe tbody tr th {\n",
              "        vertical-align: top;\n",
              "    }\n",
              "\n",
              "    .dataframe thead th {\n",
              "        text-align: right;\n",
              "    }\n",
              "</style>\n",
              "<table border=\"1\" class=\"dataframe\">\n",
              "  <thead>\n",
              "    <tr style=\"text-align: right;\">\n",
              "      <th></th>\n",
              "      <th>day</th>\n",
              "      <th>month</th>\n",
              "      <th>year</th>\n",
              "      <th>cases</th>\n",
              "      <th>deaths</th>\n",
              "      <th>popData2019</th>\n",
              "    </tr>\n",
              "  </thead>\n",
              "  <tbody>\n",
              "    <tr>\n",
              "      <th>day</th>\n",
              "      <td>1.000000</td>\n",
              "      <td>-0.110026</td>\n",
              "      <td>-0.090516</td>\n",
              "      <td>0.000740</td>\n",
              "      <td>-0.003561</td>\n",
              "      <td>-0.007343</td>\n",
              "    </tr>\n",
              "    <tr>\n",
              "      <th>month</th>\n",
              "      <td>-0.110026</td>\n",
              "      <td>1.000000</td>\n",
              "      <td>-0.262057</td>\n",
              "      <td>0.090572</td>\n",
              "      <td>0.054351</td>\n",
              "      <td>-0.086769</td>\n",
              "    </tr>\n",
              "    <tr>\n",
              "      <th>year</th>\n",
              "      <td>-0.090516</td>\n",
              "      <td>-0.262057</td>\n",
              "      <td>1.000000</td>\n",
              "      <td>0.009066</td>\n",
              "      <td>0.007911</td>\n",
              "      <td>-0.012204</td>\n",
              "    </tr>\n",
              "    <tr>\n",
              "      <th>cases</th>\n",
              "      <td>0.000740</td>\n",
              "      <td>0.090572</td>\n",
              "      <td>0.009066</td>\n",
              "      <td>1.000000</td>\n",
              "      <td>0.810267</td>\n",
              "      <td>0.190112</td>\n",
              "    </tr>\n",
              "    <tr>\n",
              "      <th>deaths</th>\n",
              "      <td>-0.003561</td>\n",
              "      <td>0.054351</td>\n",
              "      <td>0.007911</td>\n",
              "      <td>0.810267</td>\n",
              "      <td>1.000000</td>\n",
              "      <td>0.140856</td>\n",
              "    </tr>\n",
              "    <tr>\n",
              "      <th>popData2019</th>\n",
              "      <td>-0.007343</td>\n",
              "      <td>-0.086769</td>\n",
              "      <td>-0.012204</td>\n",
              "      <td>0.190112</td>\n",
              "      <td>0.140856</td>\n",
              "      <td>1.000000</td>\n",
              "    </tr>\n",
              "  </tbody>\n",
              "</table>\n",
              "</div>"
            ],
            "text/plain": [
              "                  day     month      year     cases    deaths  popData2019\n",
              "day          1.000000 -0.110026 -0.090516  0.000740 -0.003561    -0.007343\n",
              "month       -0.110026  1.000000 -0.262057  0.090572  0.054351    -0.086769\n",
              "year        -0.090516 -0.262057  1.000000  0.009066  0.007911    -0.012204\n",
              "cases        0.000740  0.090572  0.009066  1.000000  0.810267     0.190112\n",
              "deaths      -0.003561  0.054351  0.007911  0.810267  1.000000     0.140856\n",
              "popData2019 -0.007343 -0.086769 -0.012204  0.190112  0.140856     1.000000"
            ]
          },
          "metadata": {
            "tags": []
          },
          "execution_count": 40
        }
      ]
    },
    {
      "cell_type": "code",
      "metadata": {
        "id": "gYUZWl-EVZTC",
        "colab_type": "code",
        "colab": {
          "base_uri": "https://localhost:8080/",
          "height": 477
        },
        "outputId": "a4aff024-58a6-4e54-b955-6590e4974f54"
      },
      "source": [
        "avg_by_country = corona.groupby('countriesAndTerritories')[['deaths','cases']].agg([sum]).sort_values(by=('deaths','sum'))\n",
        "avg_by_country = avg_by_country / 6 * 30\n",
        "avg_by_country"
      ],
      "execution_count": 42,
      "outputs": [
        {
          "output_type": "execute_result",
          "data": {
            "text/html": [
              "<div>\n",
              "<style scoped>\n",
              "    .dataframe tbody tr th:only-of-type {\n",
              "        vertical-align: middle;\n",
              "    }\n",
              "\n",
              "    .dataframe tbody tr th {\n",
              "        vertical-align: top;\n",
              "    }\n",
              "\n",
              "    .dataframe thead tr th {\n",
              "        text-align: left;\n",
              "    }\n",
              "\n",
              "    .dataframe thead tr:last-of-type th {\n",
              "        text-align: right;\n",
              "    }\n",
              "</style>\n",
              "<table border=\"1\" class=\"dataframe\">\n",
              "  <thead>\n",
              "    <tr>\n",
              "      <th></th>\n",
              "      <th>deaths</th>\n",
              "      <th>cases</th>\n",
              "    </tr>\n",
              "    <tr>\n",
              "      <th></th>\n",
              "      <th>sum</th>\n",
              "      <th>sum</th>\n",
              "    </tr>\n",
              "    <tr>\n",
              "      <th>countriesAndTerritories</th>\n",
              "      <th></th>\n",
              "      <th></th>\n",
              "    </tr>\n",
              "  </thead>\n",
              "  <tbody>\n",
              "    <tr>\n",
              "      <th>Fiji</th>\n",
              "      <td>0.0</td>\n",
              "      <td>90.0</td>\n",
              "    </tr>\n",
              "    <tr>\n",
              "      <th>Timor_Leste</th>\n",
              "      <td>0.0</td>\n",
              "      <td>120.0</td>\n",
              "    </tr>\n",
              "    <tr>\n",
              "      <th>Dominica</th>\n",
              "      <td>0.0</td>\n",
              "      <td>90.0</td>\n",
              "    </tr>\n",
              "    <tr>\n",
              "      <th>Eritrea</th>\n",
              "      <td>0.0</td>\n",
              "      <td>715.0</td>\n",
              "    </tr>\n",
              "    <tr>\n",
              "      <th>Falkland_Islands_(Malvinas)</th>\n",
              "      <td>0.0</td>\n",
              "      <td>65.0</td>\n",
              "    </tr>\n",
              "    <tr>\n",
              "      <th>...</th>\n",
              "      <td>...</td>\n",
              "      <td>...</td>\n",
              "    </tr>\n",
              "    <tr>\n",
              "      <th>France</th>\n",
              "      <td>148600.0</td>\n",
              "      <td>806335.0</td>\n",
              "    </tr>\n",
              "    <tr>\n",
              "      <th>Italy</th>\n",
              "      <td>173375.0</td>\n",
              "      <td>1194165.0</td>\n",
              "    </tr>\n",
              "    <tr>\n",
              "      <th>United_Kingdom</th>\n",
              "      <td>214635.0</td>\n",
              "      <td>1531050.0</td>\n",
              "    </tr>\n",
              "    <tr>\n",
              "      <th>Brazil</th>\n",
              "      <td>263225.0</td>\n",
              "      <td>5729530.0</td>\n",
              "    </tr>\n",
              "    <tr>\n",
              "      <th>United_States_of_America</th>\n",
              "      <td>606140.0</td>\n",
              "      <td>11735110.0</td>\n",
              "    </tr>\n",
              "  </tbody>\n",
              "</table>\n",
              "<p>210 rows × 2 columns</p>\n",
              "</div>"
            ],
            "text/plain": [
              "                               deaths       cases\n",
              "                                  sum         sum\n",
              "countriesAndTerritories                          \n",
              "Fiji                              0.0        90.0\n",
              "Timor_Leste                       0.0       120.0\n",
              "Dominica                          0.0        90.0\n",
              "Eritrea                           0.0       715.0\n",
              "Falkland_Islands_(Malvinas)       0.0        65.0\n",
              "...                               ...         ...\n",
              "France                       148600.0    806335.0\n",
              "Italy                        173375.0   1194165.0\n",
              "United_Kingdom               214635.0   1531050.0\n",
              "Brazil                       263225.0   5729530.0\n",
              "United_States_of_America     606140.0  11735110.0\n",
              "\n",
              "[210 rows x 2 columns]"
            ]
          },
          "metadata": {
            "tags": []
          },
          "execution_count": 42
        }
      ]
    },
    {
      "cell_type": "code",
      "metadata": {
        "id": "QfFcikBTYNsS",
        "colab_type": "code",
        "colab": {
          "base_uri": "https://localhost:8080/",
          "height": 225
        },
        "outputId": "d67d0127-00fc-4e1e-99da-4800d3571167"
      },
      "source": [
        "corona.loc[corona['deaths'].idxmax()]"
      ],
      "execution_count": 44,
      "outputs": [
        {
          "output_type": "execute_result",
          "data": {
            "text/plain": [
              "dateRep                         2020-04-16 00:00:00\n",
              "day                                              16\n",
              "month                                             4\n",
              "year                                           2020\n",
              "cases                                         30148\n",
              "deaths                                         4928\n",
              "countriesAndTerritories    United_States_of_America\n",
              "geoId                                            US\n",
              "countryterritoryCode                            USA\n",
              "popData2019                             3.29065e+08\n",
              "continentExp                                America\n",
              "Name: 24510, dtype: object"
            ]
          },
          "metadata": {
            "tags": []
          },
          "execution_count": 44
        }
      ]
    },
    {
      "cell_type": "code",
      "metadata": {
        "id": "zoyDE7F-YqF-",
        "colab_type": "code",
        "colab": {
          "base_uri": "https://localhost:8080/",
          "height": 243
        },
        "outputId": "8105bff2-d68a-4494-d29d-57586dabba52"
      },
      "source": [
        "corona.groupby('countriesAndTerritories').deaths.sum()"
      ],
      "execution_count": 48,
      "outputs": [
        {
          "output_type": "execute_result",
          "data": {
            "text/plain": [
              "countriesAndTerritories\n",
              "Afghanistan       618\n",
              "Albania            45\n",
              "Algeria           861\n",
              "Andorra            52\n",
              "Angola             10\n",
              "                 ... \n",
              "Vietnam             0\n",
              "Western_Sahara      1\n",
              "Yemen             261\n",
              "Zambia             18\n",
              "Zimbabwe            6\n",
              "Name: deaths, Length: 210, dtype: int64"
            ]
          },
          "metadata": {
            "tags": []
          },
          "execution_count": 48
        }
      ]
    },
    {
      "cell_type": "code",
      "metadata": {
        "id": "kfhhZe-4bzEf",
        "colab_type": "code",
        "colab": {
          "base_uri": "https://localhost:8080/",
          "height": 35
        },
        "outputId": "49f279fe-c5d0-4e22-c4bf-6b3748738fb5"
      },
      "source": [
        "corona.groupby('countriesAndTerritories').deaths.sum().idxmax()"
      ],
      "execution_count": 49,
      "outputs": [
        {
          "output_type": "execute_result",
          "data": {
            "text/plain": [
              "'United_States_of_America'"
            ]
          },
          "metadata": {
            "tags": []
          },
          "execution_count": 49
        }
      ]
    },
    {
      "cell_type": "code",
      "metadata": {
        "id": "zAheM1Plb5RN",
        "colab_type": "code",
        "colab": {
          "base_uri": "https://localhost:8080/",
          "height": 35
        },
        "outputId": "5661376a-c22c-4c3f-a502-4e9a0b4fd58a"
      },
      "source": [
        "corona.groupby('countriesAndTerritories').deaths.sum().idxmin()"
      ],
      "execution_count": 50,
      "outputs": [
        {
          "output_type": "execute_result",
          "data": {
            "text/plain": [
              "'Anguilla'"
            ]
          },
          "metadata": {
            "tags": []
          },
          "execution_count": 50
        }
      ]
    },
    {
      "cell_type": "code",
      "metadata": {
        "id": "DmgeEsxwfUPJ",
        "colab_type": "code",
        "colab": {}
      },
      "source": [
        "data_cases = {}\n",
        "for index, row in corona.iterrows():\n",
        "  data_cases[row['countriesAndTerritories']] = data_cases.get(row['countriesAndTerritories'], 0) +  row['cases']"
      ],
      "execution_count": 56,
      "outputs": []
    },
    {
      "cell_type": "code",
      "metadata": {
        "id": "Nc_yBNBxg2Mo",
        "colab_type": "code",
        "colab": {}
      },
      "source": [
        "data_deaths = {}\n",
        "for index, row in corona.iterrows():\n",
        "  data_deaths[row['countriesAndTerritories']] = data_deaths.get(row['countriesAndTerritories'], 0) +  row['deaths']"
      ],
      "execution_count": 57,
      "outputs": []
    }
  ]
}